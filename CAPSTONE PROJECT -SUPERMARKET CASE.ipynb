 Codes deleted as some incorrect codes also get added to the main codes.
